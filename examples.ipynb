{
 "cells": [
  {
   "cell_type": "code",
   "execution_count": 1,
   "metadata": {},
   "outputs": [],
   "source": [
    "from fracpy import DSystem\n",
    "\n",
    "from sympy import cos, sin, pi\n",
    "from sympy.abc import z, c\n",
    "\n",
    "%gui tk"
   ]
  },
  {
   "cell_type": "code",
   "execution_count": 6,
   "metadata": {},
   "outputs": [],
   "source": [
    "# The default one-parameter family of dynamical systems is given by f(z) = z^2 + c\n",
    "quadratic = DSystem()\n",
    "view = quadratic.view(mandel_center=-0.5, init_param=-0.15 + 0.75j)"
   ]
  },
  {
   "cell_type": "code",
   "execution_count": 7,
   "metadata": {},
   "outputs": [
    {
     "name": "stdout",
     "output_type": "stream",
     "text": [
      "C value: (-0.15+0.75j)\n"
     ]
    }
   ],
   "source": [
    "# You can access the viewer paramaters as you browse\n",
    "print(\"C value:\", view.julia.param)"
   ]
  },
  {
   "cell_type": "code",
   "execution_count": 8,
   "metadata": {},
   "outputs": [],
   "source": [
    "# The parameters of view set the initial diameters and centers.\n",
    "# Those are also the values you go back to when you press \"r\".\n",
    "rational = DSystem(z, 1 - 1 / z**2)\n",
    "view = rational.view(julia_diam=6.0)"
   ]
  },
  {
   "cell_type": "code",
   "execution_count": 9,
   "metadata": {},
   "outputs": [],
   "source": [
    "# DSystem accepts transcendental functions as long as you use their sympy versions.\n",
    "# Parameters of view must be numeric and can't be sympy constants (for now).\n",
    "tran = DSystem(z, c * cos(z))\n",
    "view = tran.view(mandel_diam=float(2 * pi), init_param=0.9 + 0.9j)"
   ]
  },
  {
   "cell_type": "code",
   "execution_count": 10,
   "metadata": {},
   "outputs": [],
   "source": [
    "# crit is the critical value used to compute the Mandelbrot set (bifurcation locus, in general).\n",
    "# crit can be a sympy expression.\n",
    "tran = DSystem(z, c * sin(z), crit=pi / 2)\n",
    "view = tran.view(init_param=1.0)"
   ]
  },
  {
   "cell_type": "code",
   "execution_count": 11,
   "metadata": {},
   "outputs": [],
   "source": [
    "# If f_c(z) is a one-parameter family of functions, crit can depend on c.\n",
    "pol = DSystem(z, z**2 - c * z, crit=c / 2)\n",
    "view = pol.view(mandel_center=-1.0, mandel_diam=8.0)"
   ]
  },
  {
   "cell_type": "code",
   "execution_count": 12,
   "metadata": {},
   "outputs": [],
   "source": [
    "# Newton's Cubic\n",
    "f = z**3 - 1\n",
    "df = f.diff(z)\n",
    "newton = DSystem(z, z - f / df)\n",
    "view = newton.view(alg=\"escape_preperiod\")"
   ]
  },
  {
   "cell_type": "code",
   "execution_count": 13,
   "metadata": {},
   "outputs": [],
   "source": [
    "per = DSystem(z, (z**2 - c) / (z**2 - 1))\n",
    "view = per.view(mandel_diam=6.0, julia_diam=6.0)"
   ]
  },
  {
   "cell_type": "code",
   "execution_count": 14,
   "metadata": {},
   "outputs": [],
   "source": [
    "# Unicritical maps (degree 3)\n",
    "uni = DSystem(z, c * (1 + z / 3) ** 3, crit=-3)\n",
    "view = uni.view(\n",
    "    julia_diam=16.0, mandel_diam=8.0, julia_center=-3.0, mandel_center=-1.77\n",
    ")"
   ]
  },
  {
   "cell_type": "code",
   "execution_count": 10,
   "metadata": {},
   "outputs": [],
   "source": [
    "# McMullen family (2,3)\n",
    "uni = DSystem(z, z**2 + c / (z**3), crit=(3 * c / 2) ** (1 / 5))\n",
    "view = uni.view(mandel_diam=0.5, mandel_center=-0.04, julia_diam=3.0)"
   ]
  },
  {
   "cell_type": "code",
   "execution_count": 16,
   "metadata": {},
   "outputs": [],
   "source": [
    "# Minsik Han (degree 2)\n",
    "minsik = DSystem(z, c * z / (z**2 + 1), crit=1)\n",
    "view = minsik.view(alg=\"escape_preperiod\", mandel_diam=8.0, julia_diam=8.0)"
   ]
  }
 ],
 "metadata": {
  "kernelspec": {
   "display_name": ".venv",
   "language": "python",
   "name": "python3"
  },
  "language_info": {
   "codemirror_mode": {
    "name": "ipython",
    "version": 3
   },
   "file_extension": ".py",
   "mimetype": "text/x-python",
   "name": "python",
   "nbconvert_exporter": "python",
   "pygments_lexer": "ipython3",
   "version": "3.10.0"
  }
 },
 "nbformat": 4,
 "nbformat_minor": 2
}
