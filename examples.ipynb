{
 "cells": [
  {
   "cell_type": "code",
   "execution_count": 1,
   "metadata": {},
   "outputs": [],
   "source": [
    "from fracpy import DSystem\n",
    "\n",
    "from sympy import cos, sin, pi, N\n",
    "from sympy.abc import z, c"
   ]
  },
  {
   "cell_type": "code",
   "execution_count": 2,
   "metadata": {},
   "outputs": [],
   "source": [
    "# The default one parameter family of dynamical systems is given by f(z) = z^2 + c\n",
    "quadratic = DSystem()\n",
    "view = quadratic.view(mandel_center=-0.5, init_param=-0.15+0.75j)"
   ]
  },
  {
   "cell_type": "code",
   "execution_count": 3,
   "metadata": {},
   "outputs": [
    {
     "name": "stdout",
     "output_type": "stream",
     "text": [
      "C value: (-0.15+0.75j)\n"
     ]
    }
   ],
   "source": [
    "# You can access the last paramaters used in the viewer\n",
    "print(\"C value:\", view.julia.param)"
   ]
  },
  {
   "cell_type": "code",
   "execution_count": 4,
   "metadata": {},
   "outputs": [],
   "source": [
    "# The parameters of view set the initial diameters and centers.\n",
    "# Those are also the values you go back to when you press \"r\".\n",
    "rational = DSystem(z, 1 - 1/z**2)\n",
    "view = rational.view(julia_diam=6.0)"
   ]
  },
  {
   "cell_type": "code",
   "execution_count": 7,
   "metadata": {},
   "outputs": [],
   "source": [
    "# DSystem accepts transcendental functions as long as you use their sympy versions.\n",
    "# Parameters of view must be numeric and can't be sympy constants (for now).\n",
    "tran = DSystem(z, c*cos(z))\n",
    "view = tran.view(mandel_diam=float(2*pi), init_param=0.9+0.9j)"
   ]
  },
  {
   "cell_type": "code",
   "execution_count": 10,
   "metadata": {},
   "outputs": [],
   "source": [
    "# crit is the critical value used to compute the Mandelbrot set (bifurcation locus, in general).\n",
    "# crit can be a sympy expression.\n",
    "tran = DSystem(z, c * sin(z), crit=pi/2)\n",
    "view = tran.view(init_param=1.0)"
   ]
  },
  {
   "cell_type": "code",
   "execution_count": 11,
   "metadata": {},
   "outputs": [],
   "source": [
    "# If f_c(z) is a one-parameter family of functions, crit can depend on c.\n",
    "pol = DSystem(z, z**2 - c*z, crit=c/2)\n",
    "view = pol.view(mandel_center=-1.0, mandel_diam=8.0)"
   ]
  }
 ],
 "metadata": {
  "kernelspec": {
   "display_name": ".venv",
   "language": "python",
   "name": "python3"
  },
  "language_info": {
   "codemirror_mode": {
    "name": "ipython",
    "version": 3
   },
   "file_extension": ".py",
   "mimetype": "text/x-python",
   "name": "python",
   "nbconvert_exporter": "python",
   "pygments_lexer": "ipython3",
   "version": "3.10.0"
  }
 },
 "nbformat": 4,
 "nbformat_minor": 2
}
